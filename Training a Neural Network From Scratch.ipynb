{
 "cells": [
  {
   "cell_type": "markdown",
   "id": "439827da-d71b-4076-aa16-244abf8a9707",
   "metadata": {},
   "source": [
    "# Training a Neural Network From Scratch"
   ]
  },
  {
   "cell_type": "code",
   "execution_count": 9,
   "id": "d343afa2-f226-4711-9778-ffccd0f3b127",
   "metadata": {},
   "outputs": [],
   "source": [
    "import numpy as np \n",
    "import pandas as pd\n",
    "import matplotlib.pyplot as plt\n",
    "\n",
    "#To generate a random  floating data \n",
    "rg = np.random.default_rng()\n",
    "bias = 0.5\n",
    "l_rate = 0.1\n",
    "epoch = 10\n",
    "epoch_loss = []"
   ]
  },
  {
   "cell_type": "code",
   "execution_count": 11,
   "id": "0fcaabc6-ff72-4938-8f22-681be5c844e0",
   "metadata": {},
   "outputs": [
    {
     "name": "stdout",
     "output_type": "stream",
     "text": [
      "         x0        x1        x2  targets\n",
      "0  0.921875  0.187103  0.371777        1\n",
      "1  0.513988  0.790940  0.840505        1\n",
      "2  0.765861  0.054464  0.607227        1\n",
      "3  0.454335  0.932093  0.478474        1\n"
     ]
    }
   ],
   "source": [
    "# Generating data's function\n",
    "def generate_data(n_features, n_values):\n",
    "    # To create a random feature consist of n_features and n_values\n",
    "    features = rg.random((n_features, n_values))\n",
    "    # Generating a random weights of 1 dimension and [0] to get ride of 2 []\n",
    "    weights = rg.random((1, n_values))[0]\n",
    "    # To create a random targets which will be 0 or 1\n",
    "    targets = np.random.choice([0,1], n_features)\n",
    "    data = pd.DataFrame(features, columns=[\"x0\",\"x1\",\"x2\"])\n",
    "    data[\"targets\"] = targets\n",
    "    return data, weights\n",
    "    \n",
    "data, weights = generate_data(4,3)  \n",
    "print(data)"
   ]
  },
  {
   "cell_type": "code",
   "execution_count": 13,
   "id": "2d3a7a43-d2a0-4cb7-b92a-c4fab8cb0eff",
   "metadata": {},
   "outputs": [],
   "source": [
    "# Weighted sum's function \n",
    "def get_weighted_sum(feature, weights , bias):\n",
    "    return np.dot(feature , weights) + bias\n"
   ]
  },
  {
   "cell_type": "code",
   "execution_count": 15,
   "id": "748e3bd7-1eaa-40d1-b93f-cd037285d50c",
   "metadata": {},
   "outputs": [],
   "source": [
    "# The Sigmod's function\n",
    "def sigmod(w_sum):\n",
    "    return 1/ (1 + np.exp(-w_sum))"
   ]
  },
  {
   "cell_type": "code",
   "execution_count": 17,
   "id": "1e02dc80-f95c-408d-a866-107d29f29c76",
   "metadata": {},
   "outputs": [],
   "source": [
    "# Cross Entrepy loss\n",
    "def cross_enteropy(target , prediction):\n",
    "    return -(target * np.log10(prediction) + (1 - target) * np.log10(1 - prediction))"
   ]
  },
  {
   "cell_type": "code",
   "execution_count": 19,
   "id": "fed2db3d-f391-4b7c-9de3-9c96720e97e4",
   "metadata": {},
   "outputs": [],
   "source": [
    "# Lets's start with Gradient Descent\n",
    "# Updating the weights\n",
    "def update_weights(weights , l_rate, target, prediction, feature):\n",
    "    new_weights = []\n",
    "    for x,w in zip(feature, weights):\n",
    "        new_w = w + l_rate * (target - prediction)* x\n",
    "        new_weights.append(new_w)\n",
    "    return (new_weights)\n",
    "\n",
    "\n",
    "# Updating the bias\n",
    "def update_bias(bias , l_rate , target , prediction):\n",
    "    return  bias  + l_rate* (target - prediction)"
   ]
  },
  {
   "cell_type": "code",
   "execution_count": 21,
   "id": "60fdfbb9-0014-4f50-b21c-0b47626985ed",
   "metadata": {},
   "outputs": [],
   "source": [
    "# Let's train our model\n",
    "def train_model(data , weights, bias, l_rate , epochs):\n",
    "    for e in range(epoch):\n",
    "        individual_loss = []\n",
    "    \n",
    "        for i in range(len(data)):\n",
    "            # we add [:-1] to remove the target column (the last one)\n",
    "            feature = data.iloc[i,:-1]\n",
    "            target = data.iloc[i,-1]\n",
    "            w_sum = get_weighted_sum(feature, weights , bias)\n",
    "            prediction = sigmod(w_sum)\n",
    "            loss = cross_enteropy(target , prediction)\n",
    "            individual_loss.append(loss)\n",
    "            #print(loss)\n",
    "           # print(w_sum)\n",
    "           # print(sigmod(w_sum))\n",
    "            #print(\"OLD VALUES\")\n",
    "            #print(weights,bias)\n",
    "            # Gradient descent \n",
    "            weights = update_weights(weights , l_rate, target, prediction, feature)\n",
    "            bias = update_bias(bias , l_rate , target , prediction)\n",
    "            #print(\"NEW VALUES\")\n",
    "            #print(weights,bias)\n",
    "    \n",
    "        average_loss = sum(individual_loss)/len(individual_loss)\n",
    "        epoch_loss.append(average_loss)\n",
    "        print(\"*****************************************\")\n",
    "        print(\"EPOCH\" , e)\n",
    "        print(average_loss)"
   ]
  },
  {
   "cell_type": "code",
   "execution_count": 23,
   "id": "09631a63-6be7-4489-a8f9-508374ea4432",
   "metadata": {},
   "outputs": [
    {
     "name": "stdout",
     "output_type": "stream",
     "text": [
      "*****************************************\n",
      "EPOCH 0\n",
      "0.09728417419015241\n",
      "*****************************************\n",
      "EPOCH 1\n",
      "0.08477322214362032\n",
      "*****************************************\n",
      "EPOCH 2\n",
      "0.07492419591171948\n",
      "*****************************************\n",
      "EPOCH 3\n",
      "0.06700339326470252\n",
      "*****************************************\n",
      "EPOCH 4\n",
      "0.060515518540305326\n",
      "*****************************************\n",
      "EPOCH 5\n",
      "0.05511676319644871\n",
      "*****************************************\n",
      "EPOCH 6\n",
      "0.05056237972151872\n",
      "*****************************************\n",
      "EPOCH 7\n",
      "0.0466741543934503\n",
      "*****************************************\n",
      "EPOCH 8\n",
      "0.043319667875225086\n",
      "*****************************************\n",
      "EPOCH 9\n",
      "0.04039872929365034\n"
     ]
    }
   ],
   "source": [
    "train_model(data , weights, bias, l_rate , epoch)"
   ]
  },
  {
   "cell_type": "code",
   "execution_count": 27,
   "id": "16e39ebc-376f-4440-8357-fea0b0db8145",
   "metadata": {},
   "outputs": [
    {
     "data": {
      "text/plain": [
       "<Axes: title={'center': 'average loss'}>"
      ]
     },
     "execution_count": 27,
     "metadata": {},
     "output_type": "execute_result"
    },
    {
     "data": {
      "image/png": "[encoded data removed]",
      "text/plain": [
       "<Figure size 640x480 with 1 Axes>"
      ]
     },
     "metadata": {},
     "output_type": "display_data"
    }
   ],
   "source": [
    "# Visualize the average loss\n",
    "df = pd.DataFrame(epoch_loss)\n",
    "df_plot = df.plot(kind=\"line\", grid=True , title=\"average loss\")\n",
    "df_plot"
   ]
  },
  {
   "cell_type": "code",
   "execution_count": null,
   "id": "c33e3650-498d-4917-a466-7e6309aa0dec",
   "metadata": {},
   "outputs": [],
   "source": []
  }
 ],
 "metadata": {
  "kernelspec": {
   "display_name": "Python 3 (ipykernel)",
   "language": "python",
   "name": "python3"
  },
  "language_info": {
   "codemirror_mode": {
    "name": "ipython",
    "version": 3
   },
   "file_extension": ".py",
   "mimetype": "text/x-python",
   "name": "python",
   "nbconvert_exporter": "python",
   "pygments_lexer": "ipython3",
   "version": "3.12.4"
  }
 },
 "nbformat": 4,
 "nbformat_minor": 5
}
